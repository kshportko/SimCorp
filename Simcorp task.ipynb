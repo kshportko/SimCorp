{
 "cells": [
  {
   "cell_type": "code",
   "execution_count": 1,
   "metadata": {},
   "outputs": [],
   "source": [
    "def passedmonth(month1,year1,month2,year2): #function calculates how many monthes passed from the agreement date to the calculation date\n",
    "\n",
    "    if month1 > month2:\n",
    "        passedmonth = (month1-month2)+(year1-year2)*12\n",
    "    else:\n",
    "        passedmonth = (month1-month2+12)+(year1-year2-1)*12\n",
    "    return(passedmonth)"
   ]
  },
  {
   "cell_type": "code",
   "execution_count": 2,
   "metadata": {},
   "outputs": [],
   "source": [
    "def restinter(pm, x, R, n): #function calculates Sum of all future interest payments\n",
    "    restmonth = 12*n-pm\n",
    "    restinter=0\n",
    "    for i in range(1, restmonth+1):\n",
    "        rd = x-(x*(pm+i-1))/(12*n)\n",
    "        restinter =restinter+ rd*(R/12)\n",
    "    return(restinter)    "
   ]
  },
  {
   "cell_type": "code",
   "execution_count": 15,
   "metadata": {},
   "outputs": [
    {
     "name": "stdout",
     "output_type": "stream",
     "text": [
      "Please enter the amount of money to be invested: 2000\n",
      "Please enter the investment duration in years: 1\n",
      "Please enter the interest rate per year (in %): 1\n",
      "Enter the agreement date (yyyy-mm-dd): 2010-01-01\n",
      "Enter the calculation date (yyyy-mm-dd): 2010-02-01\n",
      "What to calculate?\n",
      "The list of all future payments (1) or The sum of all future interest payments (2) for calculation date1\n",
      "The rest of the debt and monthly payments (part of initial principal and interest amount)\n",
      "1833.33 : 166.67, 1.53\n",
      "1666.67 : 166.67, 1.39\n",
      "1500.00 : 166.67, 1.25\n",
      "1333.33 : 166.67, 1.11\n",
      "1166.67 : 166.67, 0.97\n",
      "1000.00 : 166.67, 0.83\n",
      "833.33 : 166.67, 0.69\n",
      "666.67 : 166.67, 0.56\n",
      "500.00 : 166.67, 0.42\n",
      "333.33 : 166.67, 0.28\n",
      "166.67 : 166.67, 0.14\n"
     ]
    }
   ],
   "source": [
    "import datetime\n",
    "\n",
    "x=int(input('Please enter the amount of money to be invested: '))\n",
    "n=int(input('Please enter the investment duration in years: '))\n",
    "R=int(input('Please enter the interest rate per year (in %): '))/100\n",
    "\n",
    "date1=input('Enter the agreement date (yyyy-mm-dd): ')\n",
    "agreementdate= datetime.date(int(date1[0:4]),int(date1[5:7]), int(date1[8:10]))\n",
    "\n",
    "date2=input('Enter the calculation date (yyyy-mm-dd): ')\n",
    "calculationdate= datetime.date(int(date2[0:4]),int(date2[5:7]), int(date2[8:10]))\n",
    "\n",
    "if agreementdate<=calculationdate:\n",
    "    pm=passedmonth(calculationdate.month,calculationdate.year,agreementdate.month,agreementdate.year)\n",
    "    print('What to calculate?')\n",
    "    choice=int(input(\"The list of all future payments (1) or The sum of all future interest payments (2) for calculation date\"))\n",
    "    \n",
    "    if choice == 1:\n",
    "        restmonth = 12*n-pm\n",
    "        print('The rest of the debt and monthly payments (part of initial principal and interest amount)')\n",
    "        for i in range(1, restmonth+1):\n",
    "            rd = x-(x*(pm+i-1))/(12*n)\n",
    "            ri = rd*(R/12)\n",
    "            print('{:.2f} : {:.2f}, {:.2f}' .format(rd, x/(12*n), ri))\n",
    "    if choice == 2:\n",
    "        ri=restinter(pm, x, R, n)\n",
    "        print('The sum of all future interest payments for the calculation date ', str(calculationdate), ' is: {:.2f}' .format(ri))\n",
    "else:\n",
    "    print('The calculation date can not be earlier than the agreement date')\n"
   ]
  },
  {
   "cell_type": "code",
   "execution_count": null,
   "metadata": {},
   "outputs": [],
   "source": []
  }
 ],
 "metadata": {
  "kernelspec": {
   "display_name": "Python 3",
   "language": "python",
   "name": "python3"
  },
  "language_info": {
   "codemirror_mode": {
    "name": "ipython",
    "version": 3
   },
   "file_extension": ".py",
   "mimetype": "text/x-python",
   "name": "python",
   "nbconvert_exporter": "python",
   "pygments_lexer": "ipython3",
   "version": "3.8.5"
  }
 },
 "nbformat": 4,
 "nbformat_minor": 4
}
